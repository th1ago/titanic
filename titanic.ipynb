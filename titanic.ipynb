{
 "cells": [
  {
   "cell_type": "code",
   "execution_count": 1,
   "metadata": {},
   "outputs": [],
   "source": [
    "# INTRODUÇÃO\n",
    "#Dados do Titanic - contém dados demográficos e informações de 891 dos 2.224 \n",
    "#passageiros e tripulantes a bordo do Titanic. \n",
    "\n",
    "# CONJUNTO DE DADOS\n",
    "#Survived (Sobreviveu): 0 = Não, 1 = Sim \n",
    "#Pclass (Classe): Classe de ingresso 1 = 1º, 2 = 2º, 3 = 3º\n",
    "#Sex (Sexo): Sexo do passageiro\n",
    "#Age (Idade): Idade em anos\n",
    "#Sibsp: Quantidade de irmãos / cônjuges a bordo do Titanic\n",
    "#Parch: Quantidade de pais / crianças a bordo do Titanic\n",
    "#Ticket (Bilhete): Número do bilhete de embarque\n",
    "#Fare (Tarifa): Tarifa paga pelo Passageiro\n",
    "#Cabin (Cabine): Número de cabine\n",
    "#Embarked (Embarque): Porto de Embarque (\n",
    "#C = Cherbourg, Q=Queenstown, S = Southampton)\n",
    "\n",
    "# DEFINIÇÃO DAS PERGUNTAS / DESCRIÇÃO DAS INVESTIGAÇÃO:\n",
    "#Qual foi a porcentagem de sobreviventes?\n",
    "#Qual era a faixa etaria dos que sobreviveram?\n",
    "#Dessas faixa etaria, mais crianças ou adultos sobreviveram?\n",
    "#Diferença de passageiros entre os sexos?\n",
    "\n",
    "# DESCRIÇÃO DA LIMPEZA:\n",
    "#Como todas as perguntas estão relacionada a idade pode retirar toda as\n",
    "#colunas de dados que não serão utilizados.\n"
   ]
  },
  {
   "cell_type": "code",
   "execution_count": 2,
   "metadata": {},
   "outputs": [],
   "source": [
    "#instalação das três bibliotecas\n",
    "import numpy as np\n",
    "import pandas as pd\n",
    "import matplotlib.pyplot as plt"
   ]
  },
  {
   "cell_type": "code",
   "execution_count": 3,
   "metadata": {},
   "outputs": [],
   "source": [
    "#leitura do arquivo csv, separado por ponto e vígula\n",
    "titanic = pd.read_csv(\"titanic-data-6.csv\", sep=';')"
   ]
  },
  {
   "cell_type": "code",
   "execution_count": 4,
   "metadata": {},
   "outputs": [
    {
     "data": {
      "text/html": [
       "<div>\n",
       "<style scoped>\n",
       "    .dataframe tbody tr th:only-of-type {\n",
       "        vertical-align: middle;\n",
       "    }\n",
       "\n",
       "    .dataframe tbody tr th {\n",
       "        vertical-align: top;\n",
       "    }\n",
       "\n",
       "    .dataframe thead th {\n",
       "        text-align: right;\n",
       "    }\n",
       "</style>\n",
       "<table border=\"1\" class=\"dataframe\">\n",
       "  <thead>\n",
       "    <tr style=\"text-align: right;\">\n",
       "      <th></th>\n",
       "      <th>PassengerId</th>\n",
       "      <th>Survived</th>\n",
       "      <th>Pclass</th>\n",
       "      <th>Name</th>\n",
       "      <th>Sex</th>\n",
       "      <th>Age</th>\n",
       "      <th>SibSp</th>\n",
       "      <th>Parch</th>\n",
       "      <th>Ticket</th>\n",
       "      <th>Fare</th>\n",
       "      <th>Cabin</th>\n",
       "      <th>Embarked</th>\n",
       "    </tr>\n",
       "  </thead>\n",
       "  <tbody>\n",
       "    <tr>\n",
       "      <th>0</th>\n",
       "      <td>1</td>\n",
       "      <td>0</td>\n",
       "      <td>3</td>\n",
       "      <td>Braund, Mr. Owen Harris</td>\n",
       "      <td>male</td>\n",
       "      <td>22.0</td>\n",
       "      <td>1</td>\n",
       "      <td>0</td>\n",
       "      <td>A/5 21171</td>\n",
       "      <td>7.25</td>\n",
       "      <td>NaN</td>\n",
       "      <td>S</td>\n",
       "    </tr>\n",
       "    <tr>\n",
       "      <th>1</th>\n",
       "      <td>2</td>\n",
       "      <td>1</td>\n",
       "      <td>1</td>\n",
       "      <td>Cumings, Mrs. John Bradley (Florence Briggs Th...</td>\n",
       "      <td>female</td>\n",
       "      <td>38.0</td>\n",
       "      <td>1</td>\n",
       "      <td>0</td>\n",
       "      <td>PC 17599</td>\n",
       "      <td>712.833</td>\n",
       "      <td>C85</td>\n",
       "      <td>C</td>\n",
       "    </tr>\n",
       "    <tr>\n",
       "      <th>2</th>\n",
       "      <td>3</td>\n",
       "      <td>1</td>\n",
       "      <td>3</td>\n",
       "      <td>Heikkinen, Miss. Laina</td>\n",
       "      <td>female</td>\n",
       "      <td>26.0</td>\n",
       "      <td>0</td>\n",
       "      <td>0</td>\n",
       "      <td>STON/O2. 3101282</td>\n",
       "      <td>7.925</td>\n",
       "      <td>NaN</td>\n",
       "      <td>S</td>\n",
       "    </tr>\n",
       "    <tr>\n",
       "      <th>3</th>\n",
       "      <td>4</td>\n",
       "      <td>1</td>\n",
       "      <td>1</td>\n",
       "      <td>Futrelle, Mrs. Jacques Heath (Lily May Peel)</td>\n",
       "      <td>female</td>\n",
       "      <td>35.0</td>\n",
       "      <td>1</td>\n",
       "      <td>0</td>\n",
       "      <td>113803</td>\n",
       "      <td>53.1</td>\n",
       "      <td>C123</td>\n",
       "      <td>S</td>\n",
       "    </tr>\n",
       "    <tr>\n",
       "      <th>4</th>\n",
       "      <td>5</td>\n",
       "      <td>0</td>\n",
       "      <td>3</td>\n",
       "      <td>Allen, Mr. William Henry</td>\n",
       "      <td>male</td>\n",
       "      <td>35.0</td>\n",
       "      <td>0</td>\n",
       "      <td>0</td>\n",
       "      <td>373450</td>\n",
       "      <td>8.05</td>\n",
       "      <td>NaN</td>\n",
       "      <td>S</td>\n",
       "    </tr>\n",
       "  </tbody>\n",
       "</table>\n",
       "</div>"
      ],
      "text/plain": [
       "   PassengerId  Survived  Pclass  \\\n",
       "0            1         0       3   \n",
       "1            2         1       1   \n",
       "2            3         1       3   \n",
       "3            4         1       1   \n",
       "4            5         0       3   \n",
       "\n",
       "                                                Name     Sex   Age  SibSp  \\\n",
       "0                            Braund, Mr. Owen Harris    male  22.0      1   \n",
       "1  Cumings, Mrs. John Bradley (Florence Briggs Th...  female  38.0      1   \n",
       "2                             Heikkinen, Miss. Laina  female  26.0      0   \n",
       "3       Futrelle, Mrs. Jacques Heath (Lily May Peel)  female  35.0      1   \n",
       "4                           Allen, Mr. William Henry    male  35.0      0   \n",
       "\n",
       "   Parch            Ticket     Fare Cabin Embarked  \n",
       "0      0         A/5 21171     7.25   NaN        S  \n",
       "1      0          PC 17599  712.833   C85        C  \n",
       "2      0  STON/O2. 3101282    7.925   NaN        S  \n",
       "3      0            113803     53.1  C123        S  \n",
       "4      0            373450     8.05   NaN        S  "
      ]
     },
     "execution_count": 4,
     "metadata": {},
     "output_type": "execute_result"
    }
   ],
   "source": [
    "#para exibição dos registros\n",
    "titanic.head()"
   ]
  },
  {
   "cell_type": "code",
   "execution_count": 5,
   "metadata": {},
   "outputs": [
    {
     "data": {
      "text/html": [
       "<div>\n",
       "<style scoped>\n",
       "    .dataframe tbody tr th:only-of-type {\n",
       "        vertical-align: middle;\n",
       "    }\n",
       "\n",
       "    .dataframe tbody tr th {\n",
       "        vertical-align: top;\n",
       "    }\n",
       "\n",
       "    .dataframe thead th {\n",
       "        text-align: right;\n",
       "    }\n",
       "</style>\n",
       "<table border=\"1\" class=\"dataframe\">\n",
       "  <thead>\n",
       "    <tr style=\"text-align: right;\">\n",
       "      <th></th>\n",
       "      <th>PassengerId</th>\n",
       "      <th>Survived</th>\n",
       "      <th>Name</th>\n",
       "      <th>Sex</th>\n",
       "      <th>Age</th>\n",
       "      <th>Parch</th>\n",
       "      <th>Embarked</th>\n",
       "    </tr>\n",
       "  </thead>\n",
       "  <tbody>\n",
       "    <tr>\n",
       "      <th>0</th>\n",
       "      <td>1</td>\n",
       "      <td>0</td>\n",
       "      <td>Braund, Mr. Owen Harris</td>\n",
       "      <td>male</td>\n",
       "      <td>22.0</td>\n",
       "      <td>0</td>\n",
       "      <td>S</td>\n",
       "    </tr>\n",
       "    <tr>\n",
       "      <th>1</th>\n",
       "      <td>2</td>\n",
       "      <td>1</td>\n",
       "      <td>Cumings, Mrs. John Bradley (Florence Briggs Th...</td>\n",
       "      <td>female</td>\n",
       "      <td>38.0</td>\n",
       "      <td>0</td>\n",
       "      <td>C</td>\n",
       "    </tr>\n",
       "    <tr>\n",
       "      <th>2</th>\n",
       "      <td>3</td>\n",
       "      <td>1</td>\n",
       "      <td>Heikkinen, Miss. Laina</td>\n",
       "      <td>female</td>\n",
       "      <td>26.0</td>\n",
       "      <td>0</td>\n",
       "      <td>S</td>\n",
       "    </tr>\n",
       "    <tr>\n",
       "      <th>3</th>\n",
       "      <td>4</td>\n",
       "      <td>1</td>\n",
       "      <td>Futrelle, Mrs. Jacques Heath (Lily May Peel)</td>\n",
       "      <td>female</td>\n",
       "      <td>35.0</td>\n",
       "      <td>0</td>\n",
       "      <td>S</td>\n",
       "    </tr>\n",
       "    <tr>\n",
       "      <th>4</th>\n",
       "      <td>5</td>\n",
       "      <td>0</td>\n",
       "      <td>Allen, Mr. William Henry</td>\n",
       "      <td>male</td>\n",
       "      <td>35.0</td>\n",
       "      <td>0</td>\n",
       "      <td>S</td>\n",
       "    </tr>\n",
       "  </tbody>\n",
       "</table>\n",
       "</div>"
      ],
      "text/plain": [
       "   PassengerId  Survived                                               Name  \\\n",
       "0            1         0                            Braund, Mr. Owen Harris   \n",
       "1            2         1  Cumings, Mrs. John Bradley (Florence Briggs Th...   \n",
       "2            3         1                             Heikkinen, Miss. Laina   \n",
       "3            4         1       Futrelle, Mrs. Jacques Heath (Lily May Peel)   \n",
       "4            5         0                           Allen, Mr. William Henry   \n",
       "\n",
       "      Sex   Age  Parch Embarked  \n",
       "0    male  22.0      0        S  \n",
       "1  female  38.0      0        C  \n",
       "2  female  26.0      0        S  \n",
       "3  female  35.0      0        S  \n",
       "4    male  35.0      0        S  "
      ]
     },
     "execution_count": 5,
     "metadata": {},
     "output_type": "execute_result"
    }
   ],
   "source": [
    "# limpeza dos dados\n",
    "def limpeza(colunas):\n",
    "    for i in range(0, len(colunas)):\n",
    "        titanic.drop([colunas[i]],axis = 1, inplace = True)\n",
    "    return titanic.head()\n",
    "\n",
    "colunas = ['Pclass','Fare','Ticket','Cabin','SibSp']\n",
    "\n",
    "limpeza(colunas)"
   ]
  },
  {
   "cell_type": "code",
   "execution_count": 6,
   "metadata": {},
   "outputs": [],
   "source": [
    "titanic_idade = titanic.copy()\n",
    "titanic_idade.drop(titanic[titanic['Age'].isnull() == True].index ,inplace=True)"
   ]
  },
  {
   "cell_type": "code",
   "execution_count": 7,
   "metadata": {},
   "outputs": [
    {
     "name": "stdout",
     "output_type": "stream",
     "text": [
      "Sobreviventes:  342\n",
      "Não Sobreviventes:  549\n"
     ]
    },
    {
     "data": {
      "text/plain": [
       "Text(0, 0.5, '')"
      ]
     },
     "execution_count": 7,
     "metadata": {},
     "output_type": "execute_result"
    },
    {
     "data": {
      "image/png": "[encoded data removed]",
      "text/plain": [
       "<Figure size 360x360 with 1 Axes>"
      ]
     },
     "metadata": {},
     "output_type": "display_data"
    }
   ],
   "source": [
    "# Qual foi a porcentagem de sobreviventes?\n",
    "titanic['Not Survived'] = titanic['Survived'].map({0:1,1:0})\n",
    "\n",
    "# Contabiliza os não sobreviventes e sobreviventes\n",
    "print('Sobreviventes: ', titanic['Survived'].value_counts()[1])\n",
    "print('Não Sobreviventes: ', titanic['Survived'].value_counts()[0])\n",
    "\n",
    "#Gera o grafico\n",
    "titanic['Survived'].value_counts().plot.pie(colors=('tab:red', 'tab:blue'),\n",
    "title='1.1 - Qual a porcentagem dos sobreviventes?',fontsize=13, shadow=True,startangle=90,autopct='%1.1f%%',\n",
    "labels=('Não Sobreviventes','Sobreviventes'),\n",
    "figsize=(5,5)).set_ylabel('')"
   ]
  },
  {
   "cell_type": "code",
   "execution_count": 8,
   "metadata": {},
   "outputs": [],
   "source": [
    "#O maior numero de não sobreviventes é de 61,6% contra 38,4% de sobreviventes"
   ]
  },
  {
   "cell_type": "code",
   "execution_count": 9,
   "metadata": {},
   "outputs": [
    {
     "data": {
      "text/plain": [
       "Text(0, 0.5, 'Frequência')"
      ]
     },
     "execution_count": 9,
     "metadata": {},
     "output_type": "execute_result"
    },
    {
     "data": {
      "text/plain": [
       "<Figure size 432x288 with 0 Axes>"
      ]
     },
     "metadata": {},
     "output_type": "display_data"
    },
    {
     "data": {
      "image/png": "[encoded data removed]",
      "text/plain": [
       "<Figure size 720x288 with 1 Axes>"
      ]
     },
     "metadata": {
      "needs_background": "light"
     },
     "output_type": "display_data"
    }
   ],
   "source": [
    "# Qual era a faixa etaria dos que sobreviveram?\n",
    "plt.figure();\n",
    "titanic_idade.hist(column='Age', color=('blue'), alpha=0.8, bins=10, figsize=(10,4))\n",
    "plt.title('1.2 - Faixa Etária dos Passageiros')\n",
    "plt.xlabel('Idade')\n",
    "plt.ylabel('Frequência')"
   ]
  },
  {
   "cell_type": "code",
   "execution_count": 10,
   "metadata": {},
   "outputs": [],
   "source": [
    "#A maior faixa etaria com maior numero de passageiros, girava entre 20 a 40 anos."
   ]
  },
  {
   "cell_type": "code",
   "execution_count": 11,
   "metadata": {},
   "outputs": [],
   "source": [
    "#Divide em grupos de crianças e adultos\n",
    "titanic_idade['Crianca_Adulto'] = 0\n",
    "\n",
    "titanic_idade.loc[titanic_idade[titanic_idade['Age'] < 18].index, 'Crianca_Adulto'] = 'Crianças'\n",
    "\n",
    "titanic_idade.loc[titanic_idade[titanic_idade['Age'] >= 18].index, 'Crianca_Adulto'] = 'Adulto'"
   ]
  },
  {
   "cell_type": "code",
   "execution_count": 12,
   "metadata": {
    "scrolled": true
   },
   "outputs": [
    {
     "data": {
      "text/plain": [
       "(Text(0, 0.5, ''), Text(0.5, 0, ''))"
      ]
     },
     "execution_count": 12,
     "metadata": {},
     "output_type": "execute_result"
    },
    {
     "data": {
      "image/png": "[encoded data removed]",
      "text/plain": [
       "<Figure size 720x180 with 1 Axes>"
      ]
     },
     "metadata": {
      "needs_background": "light"
     },
     "output_type": "display_data"
    }
   ],
   "source": [
    "#Grafico de sobrevivencia de criancas e adultos\n",
    "titanic_idade.groupby('Crianca_Adulto')['Survived'].mean().plot.barh(title='1.3 - Média de Sobrevivência',\n",
    "figsize=(10,2.5),color=('tab:green','tab:blue')).set_ylabel(''),plt.xlabel('')"
   ]
  },
  {
   "cell_type": "code",
   "execution_count": 13,
   "metadata": {},
   "outputs": [],
   "source": [
    "#As crianças foram prioridades no momento da evacuação"
   ]
  },
  {
   "cell_type": "markdown",
   "metadata": {},
   "source": [
    "#Diferença na taxa de passageiors entre homens e mulheres.\n",
    "titanic.groupby('Sex').count()['PassengerId'].plot.pie(colors=('tab:red', 'tab:blue'),\n",
    "title='1.4 - Porcentagem dos passageiros por sexo',fontsize=13, shadow=True,startangle=90,autopct='%1.1f%%',\n",
    "labels=('Mulheres','Homens'),\n",
    "figsize=(5,5)).set_ylabel('')"
   ]
  },
  {
   "cell_type": "markdown",
   "metadata": {},
   "source": [
    "# CONCLUSÃO\n",
    "Teve como objetivo analisar as chance de sobrevivência de algumas pessoas para com as outras.\n",
    "Sabe que o navio possuia um numero limitado de botes para a quantidade de pessoas abordo.\n",
    "Conforme o gráfico 1.1 consegue notar que se houvesse um núremo permitido pelo a norma da época esse número seria diferente.\n",
    "A faixa etária girava entorno de 20 e 40 anos de idade visto no gráfico 1.2\n",
    "Sobre às crianças, podemos identificar uma média de sobrevivência acima de (0,57 contra 0,38)  gráficos 1.3.\n",
    "As crianças foram a prioridades na evacuação do navio.\n",
    "Os homens foram a maior parte dos passageiros a bordo comparado as mulheres, gráfico 1.4\n",
    "\n",
    "O estudo em questão pode ser utilizado de outras analises, explorar outras informações, saber encontrar outros\n",
    "tripulantes por exemplo. A propria idade poderia ser uma forma de exploração.\n",
    "Estamos falando de dados que não são definitivos."
   ]
  }
 ],
 "metadata": {
  "kernelspec": {
   "display_name": "Python 3",
   "language": "python",
   "name": "python3"
  },
  "language_info": {
   "codemirror_mode": {
    "name": "ipython",
    "version": 3
   },
   "file_extension": ".py",
   "mimetype": "text/x-python",
   "name": "python",
   "nbconvert_exporter": "python",
   "pygments_lexer": "ipython3",
   "version": "3.7.1"
  }
 },
 "nbformat": 4,
 "nbformat_minor": 2
}
